{
  "nbformat": 4,
  "nbformat_minor": 0,
  "metadata": {
    "colab": {
      "name": "Training For Raspberry_pi.ipynb",
      "provenance": [],
      "collapsed_sections": [],
      "authorship_tag": "ABX9TyO9PYnVP9SFh9CvQKuUfd5Z",
      "include_colab_link": true
    },
    "kernelspec": {
      "name": "python3",
      "display_name": "Python 3"
    },
    "language_info": {
      "name": "python"
    }
  },
  "cells": [
    {
      "cell_type": "markdown",
      "metadata": {
        "id": "view-in-github",
        "colab_type": "text"
      },
      "source": [
        "<a href=\"https://colab.research.google.com/github/pioneer123456/Smart-ML-based-Refrigerator/blob/main/Training_For_Raspberry_pi.ipynb\" target=\"_parent\"><img src=\"https://colab.research.google.com/assets/colab-badge.svg\" alt=\"Open In Colab\"/></a>"
      ]
    },
    {
      "cell_type": "markdown",
      "source": [
        "# Training Models for edge device(Raspberry-pi)"
      ],
      "metadata": {
        "id": "AwkVZmmGy4du"
      }
    },
    {
      "cell_type": "markdown",
      "source": [
        "Install the required packages"
      ],
      "metadata": {
        "id": "pA3tyyBsy6u5"
      }
    },
    {
      "cell_type": "code",
      "execution_count": 1,
      "metadata": {
        "colab": {
          "base_uri": "https://localhost:8080/"
        },
        "id": "YPTDmhuyy1Ru",
        "outputId": "b2086139-c4d1-40e1-993b-950fcdea6c87"
      },
      "outputs": [
        {
          "output_type": "stream",
          "name": "stdout",
          "text": [
            "\u001b[?25l\r\u001b[K     |▌                               | 10 kB 22.6 MB/s eta 0:00:01\r\u001b[K     |█                               | 20 kB 13.1 MB/s eta 0:00:01\r\u001b[K     |█▌                              | 30 kB 9.9 MB/s eta 0:00:01\r\u001b[K     |██                              | 40 kB 8.7 MB/s eta 0:00:01\r\u001b[K     |██▌                             | 51 kB 6.5 MB/s eta 0:00:01\r\u001b[K     |███                             | 61 kB 7.7 MB/s eta 0:00:01\r\u001b[K     |███▋                            | 71 kB 7.6 MB/s eta 0:00:01\r\u001b[K     |████                            | 81 kB 7.2 MB/s eta 0:00:01\r\u001b[K     |████▋                           | 92 kB 7.9 MB/s eta 0:00:01\r\u001b[K     |█████                           | 102 kB 7.6 MB/s eta 0:00:01\r\u001b[K     |█████▋                          | 112 kB 7.6 MB/s eta 0:00:01\r\u001b[K     |██████▏                         | 122 kB 7.6 MB/s eta 0:00:01\r\u001b[K     |██████▋                         | 133 kB 7.6 MB/s eta 0:00:01\r\u001b[K     |███████▏                        | 143 kB 7.6 MB/s eta 0:00:01\r\u001b[K     |███████▋                        | 153 kB 7.6 MB/s eta 0:00:01\r\u001b[K     |████████▏                       | 163 kB 7.6 MB/s eta 0:00:01\r\u001b[K     |████████▊                       | 174 kB 7.6 MB/s eta 0:00:01\r\u001b[K     |█████████▏                      | 184 kB 7.6 MB/s eta 0:00:01\r\u001b[K     |█████████▊                      | 194 kB 7.6 MB/s eta 0:00:01\r\u001b[K     |██████████▏                     | 204 kB 7.6 MB/s eta 0:00:01\r\u001b[K     |██████████▊                     | 215 kB 7.6 MB/s eta 0:00:01\r\u001b[K     |███████████▎                    | 225 kB 7.6 MB/s eta 0:00:01\r\u001b[K     |███████████▊                    | 235 kB 7.6 MB/s eta 0:00:01\r\u001b[K     |████████████▎                   | 245 kB 7.6 MB/s eta 0:00:01\r\u001b[K     |████████████▊                   | 256 kB 7.6 MB/s eta 0:00:01\r\u001b[K     |█████████████▎                  | 266 kB 7.6 MB/s eta 0:00:01\r\u001b[K     |█████████████▉                  | 276 kB 7.6 MB/s eta 0:00:01\r\u001b[K     |██████████████▎                 | 286 kB 7.6 MB/s eta 0:00:01\r\u001b[K     |██████████████▉                 | 296 kB 7.6 MB/s eta 0:00:01\r\u001b[K     |███████████████▎                | 307 kB 7.6 MB/s eta 0:00:01\r\u001b[K     |███████████████▉                | 317 kB 7.6 MB/s eta 0:00:01\r\u001b[K     |████████████████▎               | 327 kB 7.6 MB/s eta 0:00:01\r\u001b[K     |████████████████▉               | 337 kB 7.6 MB/s eta 0:00:01\r\u001b[K     |█████████████████▍              | 348 kB 7.6 MB/s eta 0:00:01\r\u001b[K     |█████████████████▉              | 358 kB 7.6 MB/s eta 0:00:01\r\u001b[K     |██████████████████▍             | 368 kB 7.6 MB/s eta 0:00:01\r\u001b[K     |██████████████████▉             | 378 kB 7.6 MB/s eta 0:00:01\r\u001b[K     |███████████████████▍            | 389 kB 7.6 MB/s eta 0:00:01\r\u001b[K     |████████████████████            | 399 kB 7.6 MB/s eta 0:00:01\r\u001b[K     |████████████████████▍           | 409 kB 7.6 MB/s eta 0:00:01\r\u001b[K     |█████████████████████           | 419 kB 7.6 MB/s eta 0:00:01\r\u001b[K     |█████████████████████▍          | 430 kB 7.6 MB/s eta 0:00:01\r\u001b[K     |██████████████████████          | 440 kB 7.6 MB/s eta 0:00:01\r\u001b[K     |██████████████████████▌         | 450 kB 7.6 MB/s eta 0:00:01\r\u001b[K     |███████████████████████         | 460 kB 7.6 MB/s eta 0:00:01\r\u001b[K     |███████████████████████▌        | 471 kB 7.6 MB/s eta 0:00:01\r\u001b[K     |████████████████████████        | 481 kB 7.6 MB/s eta 0:00:01\r\u001b[K     |████████████████████████▌       | 491 kB 7.6 MB/s eta 0:00:01\r\u001b[K     |█████████████████████████       | 501 kB 7.6 MB/s eta 0:00:01\r\u001b[K     |█████████████████████████▌      | 512 kB 7.6 MB/s eta 0:00:01\r\u001b[K     |██████████████████████████      | 522 kB 7.6 MB/s eta 0:00:01\r\u001b[K     |██████████████████████████▌     | 532 kB 7.6 MB/s eta 0:00:01\r\u001b[K     |███████████████████████████     | 542 kB 7.6 MB/s eta 0:00:01\r\u001b[K     |███████████████████████████▋    | 552 kB 7.6 MB/s eta 0:00:01\r\u001b[K     |████████████████████████████    | 563 kB 7.6 MB/s eta 0:00:01\r\u001b[K     |████████████████████████████▋   | 573 kB 7.6 MB/s eta 0:00:01\r\u001b[K     |█████████████████████████████   | 583 kB 7.6 MB/s eta 0:00:01\r\u001b[K     |█████████████████████████████▋  | 593 kB 7.6 MB/s eta 0:00:01\r\u001b[K     |██████████████████████████████  | 604 kB 7.6 MB/s eta 0:00:01\r\u001b[K     |██████████████████████████████▋ | 614 kB 7.6 MB/s eta 0:00:01\r\u001b[K     |███████████████████████████████▏| 624 kB 7.6 MB/s eta 0:00:01\r\u001b[K     |███████████████████████████████▋| 634 kB 7.6 MB/s eta 0:00:01\r\u001b[K     |████████████████████████████████| 642 kB 7.6 MB/s \n",
            "\u001b[K     |████████████████████████████████| 87 kB 6.0 MB/s \n",
            "\u001b[K     |████████████████████████████████| 1.1 MB 62.2 MB/s \n",
            "\u001b[K     |████████████████████████████████| 6.4 MB 57.6 MB/s \n",
            "\u001b[K     |████████████████████████████████| 596 kB 44.7 MB/s \n",
            "\u001b[K     |████████████████████████████████| 1.2 MB 44.2 MB/s \n",
            "\u001b[K     |████████████████████████████████| 237 kB 57.1 MB/s \n",
            "\u001b[K     |████████████████████████████████| 10.9 MB 36.5 MB/s \n",
            "\u001b[K     |████████████████████████████████| 120 kB 59.9 MB/s \n",
            "\u001b[K     |████████████████████████████████| 3.4 MB 54.9 MB/s \n",
            "\u001b[K     |████████████████████████████████| 77 kB 5.7 MB/s \n",
            "\u001b[K     |████████████████████████████████| 42.5 MB 91 kB/s \n",
            "\u001b[K     |████████████████████████████████| 840 kB 38.1 MB/s \n",
            "\u001b[K     |████████████████████████████████| 25.3 MB 1.4 MB/s \n",
            "\u001b[K     |████████████████████████████████| 47.8 MB 53 kB/s \n",
            "\u001b[K     |████████████████████████████████| 99 kB 9.9 MB/s \n",
            "\u001b[K     |████████████████████████████████| 352 kB 53.8 MB/s \n",
            "\u001b[K     |████████████████████████████████| 462 kB 50.1 MB/s \n",
            "\u001b[K     |████████████████████████████████| 40 kB 5.5 MB/s \n",
            "\u001b[K     |████████████████████████████████| 1.0 MB 42.3 MB/s \n",
            "\u001b[K     |████████████████████████████████| 213 kB 59.9 MB/s \n",
            "\u001b[?25h  Building wheel for fire (setup.py) ... \u001b[?25l\u001b[?25hdone\n",
            "  Building wheel for py-cpuinfo (setup.py) ... \u001b[?25l\u001b[?25hdone\n",
            "\u001b[31mERROR: pip's dependency resolver does not currently take into account all the packages that are installed. This behaviour is the source of the following dependency conflicts.\n",
            "datascience 0.10.6 requires folium==0.2.1, but you have folium 0.8.3 which is incompatible.\u001b[0m\n"
          ]
        }
      ],
      "source": [
        "!pip install -q tflite-model-maker\n",
        "!pip install -q tflite-support"
      ]
    },
    {
      "cell_type": "code",
      "source": [
        "!sudo apt-get install libportaudio2\n",
        "!pip install sounddevice"
      ],
      "metadata": {
        "colab": {
          "base_uri": "https://localhost:8080/"
        },
        "id": "iBmy-B38zCj9",
        "outputId": "034ea987-4594-4573-cca6-b972df968cec"
      },
      "execution_count": 2,
      "outputs": [
        {
          "output_type": "stream",
          "name": "stdout",
          "text": [
            "Reading package lists... Done\n",
            "Building dependency tree       \n",
            "Reading state information... Done\n",
            "The following package was automatically installed and is no longer required:\n",
            "  libnvidia-common-460\n",
            "Use 'sudo apt autoremove' to remove it.\n",
            "The following NEW packages will be installed:\n",
            "  libportaudio2\n",
            "0 upgraded, 1 newly installed, 0 to remove and 42 not upgraded.\n",
            "Need to get 64.6 kB of archives.\n",
            "After this operation, 215 kB of additional disk space will be used.\n",
            "Get:1 http://archive.ubuntu.com/ubuntu bionic/universe amd64 libportaudio2 amd64 19.6.0-1 [64.6 kB]\n",
            "Fetched 64.6 kB in 0s (234 kB/s)\n",
            "debconf: unable to initialize frontend: Dialog\n",
            "debconf: (No usable dialog-like program is installed, so the dialog based frontend cannot be used. at /usr/share/perl5/Debconf/FrontEnd/Dialog.pm line 76, <> line 1.)\n",
            "debconf: falling back to frontend: Readline\n",
            "debconf: unable to initialize frontend: Readline\n",
            "debconf: (This frontend requires a controlling tty.)\n",
            "debconf: falling back to frontend: Teletype\n",
            "dpkg-preconfigure: unable to re-open stdin: \n",
            "Selecting previously unselected package libportaudio2:amd64.\n",
            "(Reading database ... 155629 files and directories currently installed.)\n",
            "Preparing to unpack .../libportaudio2_19.6.0-1_amd64.deb ...\n",
            "Unpacking libportaudio2:amd64 (19.6.0-1) ...\n",
            "Setting up libportaudio2:amd64 (19.6.0-1) ...\n",
            "Processing triggers for libc-bin (2.27-3ubuntu1.3) ...\n",
            "/sbin/ldconfig.real: /usr/local/lib/python3.7/dist-packages/ideep4py/lib/libmkldnn.so.0 is not a symbolic link\n",
            "\n",
            "Requirement already satisfied: sounddevice in /usr/local/lib/python3.7/dist-packages (0.4.4)\n",
            "Requirement already satisfied: CFFI>=1.0 in /usr/local/lib/python3.7/dist-packages (from sounddevice) (1.15.0)\n",
            "Requirement already satisfied: pycparser in /usr/local/lib/python3.7/dist-packages (from CFFI>=1.0->sounddevice) (2.21)\n"
          ]
        }
      ]
    },
    {
      "cell_type": "markdown",
      "source": [
        "Import the required packages."
      ],
      "metadata": {
        "id": "yf1CQWb8zEH7"
      }
    },
    {
      "cell_type": "code",
      "source": [
        "import numpy as np\n",
        "import os\n",
        "\n",
        "from tflite_model_maker.config import ExportFormat, QuantizationConfig\n",
        "from tflite_model_maker import model_spec\n",
        "from tflite_model_maker import object_detector\n",
        "\n",
        "from tflite_support import metadata\n",
        "\n",
        "import tensorflow as tf\n",
        "assert tf.__version__.startswith('2')\n",
        "\n",
        "tf.get_logger().setLevel('ERROR')\n",
        "from absl import logging\n",
        "logging.set_verbosity(logging.ERROR)"
      ],
      "metadata": {
        "id": "U9OpKNGQzGdA"
      },
      "execution_count": 3,
      "outputs": []
    },
    {
      "cell_type": "markdown",
      "source": [
        "# Prepare the dataset\n",
        "This dataset contains about 80 images of 2 type of banana figurines: a good condition and defective condition. "
      ],
      "metadata": {
        "id": "rD4O4gunzJQ1"
      }
    },
    {
      "cell_type": "markdown",
      "source": [
        "We start with downloading the dataset."
      ],
      "metadata": {
        "id": "5ukZ7y_9zZe_"
      }
    },
    {
      "cell_type": "code",
      "source": [
        "!git clone https://github.com/pioneer123456/Smart-ML-based-Refrigerator.git"
      ],
      "metadata": {
        "colab": {
          "base_uri": "https://localhost:8080/"
        },
        "id": "m72v97yozWZK",
        "outputId": "803e44c3-341b-4cc0-aac9-228203fb2180"
      },
      "execution_count": 4,
      "outputs": [
        {
          "output_type": "stream",
          "name": "stdout",
          "text": [
            "Cloning into 'Smart-ML-based-Refrigerator'...\n",
            "remote: Enumerating objects: 259, done.\u001b[K\n",
            "remote: Counting objects: 100% (259/259), done.\u001b[K\n",
            "remote: Compressing objects: 100% (152/152), done.\u001b[K\n",
            "remote: Total 259 (delta 125), reused 228 (delta 105), pack-reused 0\u001b[K\n",
            "Receiving objects: 100% (259/259), 18.77 MiB | 20.21 MiB/s, done.\n",
            "Resolving deltas: 100% (125/125), done.\n"
          ]
        }
      ]
    },
    {
      "cell_type": "code",
      "source": [
        "!cp -r Smart-ML-based-Refrigerator/Data /content/fruit_data/"
      ],
      "metadata": {
        "id": "nHAS7edNzdW8"
      },
      "execution_count": 5,
      "outputs": []
    },
    {
      "cell_type": "markdown",
      "source": [
        "# Train the object detection model\n",
        "## Step 1: Load the dataset\n",
        "Images in train_data is used to train the custom object detection model.\n",
        "Images in val_data is used to check if the model can generalize well to new images that it hasn't seen before."
      ],
      "metadata": {
        "id": "FCeu2xCEzfa5"
      }
    },
    {
      "cell_type": "code",
      "source": [
        "train_data = object_detector.DataLoader.from_pascal_voc(\n",
        "    '/content/fruit_data/Train_data',\n",
        "    '/content/fruit_data/Train_data',\n",
        "    ['looks_good', 'looks_defective']\n",
        ")\n",
        "\n",
        "val_data = object_detector.DataLoader.from_pascal_voc(\n",
        "    '/content/fruit_data/Test_data',\n",
        "    '/content/fruit_data/Test_data',\n",
        "    ['looks_good', 'looks_defective']\n",
        ")"
      ],
      "metadata": {
        "id": "dJVJQ6GDzsdV"
      },
      "execution_count": 6,
      "outputs": []
    },
    {
      "cell_type": "markdown",
      "source": [
        "# Step 2: Select a model architecture\n",
        "EfficientDet-Lite[0-4] are a family of mobile/IoT-friendly object detection models derived from the EfficientDet architecture."
      ],
      "metadata": {
        "id": "ZosCEwvZzwLy"
      }
    },
    {
      "cell_type": "code",
      "source": [
        "spec = model_spec.get('efficientdet_lite0')"
      ],
      "metadata": {
        "id": "346VN_6uz2bL"
      },
      "execution_count": 7,
      "outputs": []
    },
    {
      "cell_type": "markdown",
      "source": [
        "# Step 3: Train the TensorFlow model with the training data."
      ],
      "metadata": {
        "id": "0Pp_7Qt6z4wZ"
      }
    },
    {
      "cell_type": "code",
      "source": [
        "model = object_detector.create(train_data, model_spec=spec, batch_size=4, train_whole_model=True, epochs=20, validation_data=val_data)"
      ],
      "metadata": {
        "colab": {
          "base_uri": "https://localhost:8080/"
        },
        "id": "8LoBXzFfz7Lg",
        "outputId": "6c05e7bf-6ceb-427d-b9c8-23c6fe20e05a"
      },
      "execution_count": 8,
      "outputs": [
        {
          "output_type": "stream",
          "name": "stdout",
          "text": [
            "Epoch 1/20\n",
            "20/20 [==============================] - 76s 2s/step - det_loss: 1.6746 - cls_loss: 1.1012 - box_loss: 0.0115 - reg_l2_loss: 0.0630 - loss: 1.7376 - learning_rate: 0.0065 - gradient_norm: 2.2768 - val_det_loss: 1.5659 - val_cls_loss: 1.0439 - val_box_loss: 0.0104 - val_reg_l2_loss: 0.0630 - val_loss: 1.6289\n",
            "Epoch 2/20\n",
            "20/20 [==============================] - 40s 2s/step - det_loss: 1.4232 - cls_loss: 0.9779 - box_loss: 0.0089 - reg_l2_loss: 0.0630 - loss: 1.4862 - learning_rate: 0.0049 - gradient_norm: 4.0561 - val_det_loss: 1.3871 - val_cls_loss: 0.8309 - val_box_loss: 0.0111 - val_reg_l2_loss: 0.0630 - val_loss: 1.4501\n",
            "Epoch 3/20\n",
            "20/20 [==============================] - 40s 2s/step - det_loss: 1.1486 - cls_loss: 0.7697 - box_loss: 0.0076 - reg_l2_loss: 0.0630 - loss: 1.2117 - learning_rate: 0.0048 - gradient_norm: 3.3984 - val_det_loss: 1.8140 - val_cls_loss: 1.2694 - val_box_loss: 0.0109 - val_reg_l2_loss: 0.0631 - val_loss: 1.8770\n",
            "Epoch 4/20\n",
            "20/20 [==============================] - 41s 2s/step - det_loss: 0.9721 - cls_loss: 0.6445 - box_loss: 0.0066 - reg_l2_loss: 0.0631 - loss: 1.0352 - learning_rate: 0.0046 - gradient_norm: 3.2666 - val_det_loss: 1.8092 - val_cls_loss: 1.2687 - val_box_loss: 0.0108 - val_reg_l2_loss: 0.0631 - val_loss: 1.8723\n",
            "Epoch 5/20\n",
            "20/20 [==============================] - 47s 2s/step - det_loss: 0.8871 - cls_loss: 0.5841 - box_loss: 0.0061 - reg_l2_loss: 0.0631 - loss: 0.9502 - learning_rate: 0.0043 - gradient_norm: 3.3551 - val_det_loss: 1.2859 - val_cls_loss: 0.7677 - val_box_loss: 0.0104 - val_reg_l2_loss: 0.0631 - val_loss: 1.3490\n",
            "Epoch 6/20\n",
            "20/20 [==============================] - 41s 2s/step - det_loss: 0.7993 - cls_loss: 0.5197 - box_loss: 0.0056 - reg_l2_loss: 0.0631 - loss: 0.8624 - learning_rate: 0.0040 - gradient_norm: 3.1776 - val_det_loss: 1.3978 - val_cls_loss: 0.8547 - val_box_loss: 0.0109 - val_reg_l2_loss: 0.0631 - val_loss: 1.4609\n",
            "Epoch 7/20\n",
            "20/20 [==============================] - 42s 2s/step - det_loss: 0.7249 - cls_loss: 0.4735 - box_loss: 0.0050 - reg_l2_loss: 0.0631 - loss: 0.7880 - learning_rate: 0.0037 - gradient_norm: 3.3459 - val_det_loss: 1.3641 - val_cls_loss: 0.8297 - val_box_loss: 0.0107 - val_reg_l2_loss: 0.0631 - val_loss: 1.4272\n",
            "Epoch 8/20\n",
            "20/20 [==============================] - 41s 2s/step - det_loss: 0.7144 - cls_loss: 0.4784 - box_loss: 0.0047 - reg_l2_loss: 0.0631 - loss: 0.7775 - learning_rate: 0.0033 - gradient_norm: 3.2173 - val_det_loss: 1.2469 - val_cls_loss: 0.6925 - val_box_loss: 0.0111 - val_reg_l2_loss: 0.0631 - val_loss: 1.3100\n",
            "Epoch 9/20\n",
            "20/20 [==============================] - 42s 2s/step - det_loss: 0.6499 - cls_loss: 0.4334 - box_loss: 0.0043 - reg_l2_loss: 0.0631 - loss: 0.7130 - learning_rate: 0.0029 - gradient_norm: 3.3869 - val_det_loss: 1.1302 - val_cls_loss: 0.6014 - val_box_loss: 0.0106 - val_reg_l2_loss: 0.0631 - val_loss: 1.1933\n",
            "Epoch 10/20\n",
            "20/20 [==============================] - 44s 2s/step - det_loss: 0.6355 - cls_loss: 0.4227 - box_loss: 0.0043 - reg_l2_loss: 0.0631 - loss: 0.6986 - learning_rate: 0.0025 - gradient_norm: 3.2300 - val_det_loss: 1.1735 - val_cls_loss: 0.6188 - val_box_loss: 0.0111 - val_reg_l2_loss: 0.0631 - val_loss: 1.2366\n",
            "Epoch 11/20\n",
            "20/20 [==============================] - 43s 2s/step - det_loss: 0.5748 - cls_loss: 0.3939 - box_loss: 0.0036 - reg_l2_loss: 0.0631 - loss: 0.6379 - learning_rate: 0.0021 - gradient_norm: 3.6282 - val_det_loss: 1.0475 - val_cls_loss: 0.5525 - val_box_loss: 0.0099 - val_reg_l2_loss: 0.0631 - val_loss: 1.1106\n",
            "Epoch 12/20\n",
            "20/20 [==============================] - 41s 2s/step - det_loss: 0.5853 - cls_loss: 0.3938 - box_loss: 0.0038 - reg_l2_loss: 0.0631 - loss: 0.6485 - learning_rate: 0.0017 - gradient_norm: 3.5365 - val_det_loss: 1.1283 - val_cls_loss: 0.5838 - val_box_loss: 0.0109 - val_reg_l2_loss: 0.0631 - val_loss: 1.1914\n",
            "Epoch 13/20\n",
            "20/20 [==============================] - 40s 2s/step - det_loss: 0.5432 - cls_loss: 0.3691 - box_loss: 0.0035 - reg_l2_loss: 0.0631 - loss: 0.6064 - learning_rate: 0.0013 - gradient_norm: 3.1953 - val_det_loss: 1.0823 - val_cls_loss: 0.5673 - val_box_loss: 0.0103 - val_reg_l2_loss: 0.0631 - val_loss: 1.1454\n",
            "Epoch 14/20\n",
            "20/20 [==============================] - 41s 2s/step - det_loss: 0.5838 - cls_loss: 0.3993 - box_loss: 0.0037 - reg_l2_loss: 0.0631 - loss: 0.6470 - learning_rate: 9.6712e-04 - gradient_norm: 3.9854 - val_det_loss: 1.1154 - val_cls_loss: 0.5734 - val_box_loss: 0.0108 - val_reg_l2_loss: 0.0631 - val_loss: 1.1786\n",
            "Epoch 15/20\n",
            "20/20 [==============================] - 44s 2s/step - det_loss: 0.5572 - cls_loss: 0.3810 - box_loss: 0.0035 - reg_l2_loss: 0.0631 - loss: 0.6204 - learning_rate: 6.6360e-04 - gradient_norm: 3.5243 - val_det_loss: 1.0739 - val_cls_loss: 0.5634 - val_box_loss: 0.0102 - val_reg_l2_loss: 0.0631 - val_loss: 1.1370\n",
            "Epoch 16/20\n",
            "20/20 [==============================] - 41s 2s/step - det_loss: 0.5370 - cls_loss: 0.3610 - box_loss: 0.0035 - reg_l2_loss: 0.0631 - loss: 0.6001 - learning_rate: 4.1018e-04 - gradient_norm: 3.3293 - val_det_loss: 1.0403 - val_cls_loss: 0.5520 - val_box_loss: 0.0098 - val_reg_l2_loss: 0.0631 - val_loss: 1.1035\n",
            "Epoch 17/20\n",
            "20/20 [==============================] - 41s 2s/step - det_loss: 0.5727 - cls_loss: 0.4003 - box_loss: 0.0034 - reg_l2_loss: 0.0631 - loss: 0.6358 - learning_rate: 2.1376e-04 - gradient_norm: 4.1446 - val_det_loss: 1.0200 - val_cls_loss: 0.5456 - val_box_loss: 0.0095 - val_reg_l2_loss: 0.0631 - val_loss: 1.0831\n",
            "Epoch 18/20\n",
            "20/20 [==============================] - 40s 2s/step - det_loss: 0.5342 - cls_loss: 0.3649 - box_loss: 0.0034 - reg_l2_loss: 0.0631 - loss: 0.5974 - learning_rate: 7.9701e-05 - gradient_norm: 3.7648 - val_det_loss: 0.9459 - val_cls_loss: 0.5133 - val_box_loss: 0.0087 - val_reg_l2_loss: 0.0631 - val_loss: 1.0090\n",
            "Epoch 19/20\n",
            "20/20 [==============================] - 41s 2s/step - det_loss: 0.5432 - cls_loss: 0.3689 - box_loss: 0.0035 - reg_l2_loss: 0.0631 - loss: 0.6063 - learning_rate: 1.1664e-05 - gradient_norm: 3.7684 - val_det_loss: 0.9398 - val_cls_loss: 0.5165 - val_box_loss: 0.0085 - val_reg_l2_loss: 0.0631 - val_loss: 1.0030\n",
            "Epoch 20/20\n",
            "20/20 [==============================] - 45s 2s/step - det_loss: 0.5163 - cls_loss: 0.3490 - box_loss: 0.0033 - reg_l2_loss: 0.0631 - loss: 0.5794 - learning_rate: 1.1502e-05 - gradient_norm: 3.2521 - val_det_loss: 0.9319 - val_cls_loss: 0.5150 - val_box_loss: 0.0083 - val_reg_l2_loss: 0.0631 - val_loss: 0.9951\n"
          ]
        }
      ]
    },
    {
      "cell_type": "markdown",
      "source": [
        "# Step 4. Evaluate the model with the validation data."
      ],
      "metadata": {
        "id": "Cjq2novkz99T"
      }
    },
    {
      "cell_type": "code",
      "source": [
        "model.evaluate(val_data)"
      ],
      "metadata": {
        "colab": {
          "base_uri": "https://localhost:8080/"
        },
        "id": "7iUO9M-Y0AYl",
        "outputId": "036195f4-a3f3-4852-a805-246293b271be"
      },
      "execution_count": 9,
      "outputs": [
        {
          "output_type": "stream",
          "name": "stdout",
          "text": [
            "\r1/1 [==============================] - 7s 7s/step\n",
            "\n"
          ]
        },
        {
          "output_type": "execute_result",
          "data": {
            "text/plain": [
              "{'AP': 0.23814964,\n",
              " 'AP50': 0.57475245,\n",
              " 'AP75': 0.25219777,\n",
              " 'AP_/looks_defective': 0.18592384,\n",
              " 'AP_/looks_good': 0.29037544,\n",
              " 'APl': 0.23831426,\n",
              " 'APm': -1.0,\n",
              " 'APs': -1.0,\n",
              " 'ARl': 0.39141414,\n",
              " 'ARm': -1.0,\n",
              " 'ARmax1': 0.34949496,\n",
              " 'ARmax10': 0.3641414,\n",
              " 'ARmax100': 0.39141414,\n",
              " 'ARs': -1.0}"
            ]
          },
          "metadata": {},
          "execution_count": 9
        }
      ]
    },
    {
      "cell_type": "markdown",
      "source": [
        "\n",
        "# Step 5: Export as a TensorFlow Lite model."
      ],
      "metadata": {
        "id": "uDoS6APX0Cmt"
      }
    },
    {
      "cell_type": "code",
      "source": [
        "model.export(export_dir='.', tflite_filename='android1.tflite')"
      ],
      "metadata": {
        "id": "OCmEK-620D3L"
      },
      "execution_count": 10,
      "outputs": []
    },
    {
      "cell_type": "markdown",
      "source": [
        "# Step 6: Evaluate the TensorFlow Lite model."
      ],
      "metadata": {
        "id": "cV3zE9hg0H0w"
      }
    },
    {
      "cell_type": "code",
      "source": [
        "model.evaluate_tflite('android1.tflite', val_data)"
      ],
      "metadata": {
        "colab": {
          "base_uri": "https://localhost:8080/"
        },
        "id": "hr9j11IC0OVr",
        "outputId": "7598bfdd-3e62-44e8-be89-1eeb156f26dc"
      },
      "execution_count": 11,
      "outputs": [
        {
          "output_type": "stream",
          "name": "stdout",
          "text": [
            "20/20 [==============================] - 57s 3s/step\n",
            "\n"
          ]
        },
        {
          "output_type": "execute_result",
          "data": {
            "text/plain": [
              "{'AP': 0.24299856,\n",
              " 'AP50': 0.58851624,\n",
              " 'AP75': 0.26895052,\n",
              " 'AP_/looks_defective': 0.19169362,\n",
              " 'AP_/looks_good': 0.2943035,\n",
              " 'APl': 0.24314547,\n",
              " 'APm': -1.0,\n",
              " 'APs': -1.0,\n",
              " 'ARl': 0.42070708,\n",
              " 'ARm': -1.0,\n",
              " 'ARmax1': 0.32575756,\n",
              " 'ARmax10': 0.42070708,\n",
              " 'ARmax100': 0.42070708,\n",
              " 'ARs': -1.0}"
            ]
          },
          "metadata": {},
          "execution_count": 11
        }
      ]
    },
    {
      "cell_type": "code",
      "source": [
        "# Download the TFLite model to your local computer.\n",
        "from google.colab import files\n",
        "files.download('android1.tflite')"
      ],
      "metadata": {
        "colab": {
          "base_uri": "https://localhost:8080/",
          "height": 17
        },
        "id": "QsP4tIia0Mgm",
        "outputId": "9f48e424-65c2-4f3a-ac33-ab645e3a27fc"
      },
      "execution_count": 12,
      "outputs": [
        {
          "output_type": "display_data",
          "data": {
            "text/plain": [
              "<IPython.core.display.Javascript object>"
            ],
            "application/javascript": [
              "\n",
              "    async function download(id, filename, size) {\n",
              "      if (!google.colab.kernel.accessAllowed) {\n",
              "        return;\n",
              "      }\n",
              "      const div = document.createElement('div');\n",
              "      const label = document.createElement('label');\n",
              "      label.textContent = `Downloading \"${filename}\": `;\n",
              "      div.appendChild(label);\n",
              "      const progress = document.createElement('progress');\n",
              "      progress.max = size;\n",
              "      div.appendChild(progress);\n",
              "      document.body.appendChild(div);\n",
              "\n",
              "      const buffers = [];\n",
              "      let downloaded = 0;\n",
              "\n",
              "      const channel = await google.colab.kernel.comms.open(id);\n",
              "      // Send a message to notify the kernel that we're ready.\n",
              "      channel.send({})\n",
              "\n",
              "      for await (const message of channel.messages) {\n",
              "        // Send a message to notify the kernel that we're ready.\n",
              "        channel.send({})\n",
              "        if (message.buffers) {\n",
              "          for (const buffer of message.buffers) {\n",
              "            buffers.push(buffer);\n",
              "            downloaded += buffer.byteLength;\n",
              "            progress.value = downloaded;\n",
              "          }\n",
              "        }\n",
              "      }\n",
              "      const blob = new Blob(buffers, {type: 'application/binary'});\n",
              "      const a = document.createElement('a');\n",
              "      a.href = window.URL.createObjectURL(blob);\n",
              "      a.download = filename;\n",
              "      div.appendChild(a);\n",
              "      a.click();\n",
              "      div.remove();\n",
              "    }\n",
              "  "
            ]
          },
          "metadata": {}
        },
        {
          "output_type": "display_data",
          "data": {
            "text/plain": [
              "<IPython.core.display.Javascript object>"
            ],
            "application/javascript": [
              "download(\"download_71d767a6-8a63-4ec4-bde6-15b2f4ffa33e\", \"android1.tflite\", 4444733)"
            ]
          },
          "metadata": {}
        }
      ]
    },
    {
      "cell_type": "code",
      "source": [
        ""
      ],
      "metadata": {
        "id": "i_knIzlF1BHF"
      },
      "execution_count": 12,
      "outputs": []
    }
  ]
}